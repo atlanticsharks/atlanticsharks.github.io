{
  "nbformat": 4,
  "nbformat_minor": 0,
  "metadata": {
    "colab": {
      "provenance": [],
      "gpuType": "T4",
      "mount_file_id": "1PP0oH-DtFugjAPrhQMiRI5W6RxQTiZDR",
      "authorship_tag": "ABX9TyN7htpDxKeq7t26htZtLDvc",
      "include_colab_link": true
    },
    "kernelspec": {
      "name": "python3",
      "display_name": "Python 3"
    },
    "language_info": {
      "name": "python"
    },
    "accelerator": "GPU"
  },
  "cells": [
    {
      "cell_type": "markdown",
      "metadata": {
        "id": "view-in-github",
        "colab_type": "text"
      },
      "source": [
        "<a href=\"https://colab.research.google.com/github/atlanticsharks/atlanticsharks.github.io/blob/main/MAYABAY.ipynb\" target=\"_parent\"><img src=\"https://colab.research.google.com/assets/colab-badge.svg\" alt=\"Open In Colab\"/></a>"
      ]
    },
    {
      "cell_type": "markdown",
      "source": [
        "# 1. SET UP"
      ],
      "metadata": {
        "id": "nlL88QwWPDA5"
      }
    },
    {
      "cell_type": "markdown",
      "source": [
        "https://github.com/filippovarini/sharktrack/blob/master/sharktrack-user-guide.md"
      ],
      "metadata": {
        "id": "lB5c-HJU5i0r"
      }
    },
    {
      "cell_type": "markdown",
      "source": [
        "Mount google drive files to /content/drive so that they can be accessed within this script\n"
      ],
      "metadata": {
        "id": "shi2Pcv9OwL4"
      }
    },
    {
      "source": [
        "from google.colab import drive"
      ],
      "cell_type": "code",
      "metadata": {
        "id": "SgamLkZzM0MH"
      },
      "execution_count": null,
      "outputs": []
    },
    {
      "source": [
        "drive.mount('/content/drive')"
      ],
      "cell_type": "code",
      "metadata": {
        "colab": {
          "base_uri": "https://localhost:8080/"
        },
        "id": "LM-X5XAnM0ly",
        "outputId": "b3cd3ccf-6766-4c13-f2a0-2a986365c7ec"
      },
      "execution_count": null,
      "outputs": [
        {
          "output_type": "stream",
          "name": "stdout",
          "text": [
            "Drive already mounted at /content/drive; to attempt to forcibly remount, call drive.mount(\"/content/drive\", force_remount=True).\n"
          ]
        }
      ]
    },
    {
      "cell_type": "markdown",
      "source": [
        "Clone the git repository for sharktrack AI originally from github.com/filippovarini but modified for google collab here"
      ],
      "metadata": {
        "id": "zMxLBMvbO6ga"
      }
    },
    {
      "cell_type": "code",
      "source": [
        "!git clone https://github.com/atlanticsharks/sharktrackAI.git sharktrack"
      ],
      "metadata": {
        "colab": {
          "base_uri": "https://localhost:8080/"
        },
        "collapsed": true,
        "id": "W89-wnUKNaoy",
        "outputId": "f2e76edb-ee20-4a14-9df6-210e2e8a581d"
      },
      "execution_count": null,
      "outputs": [
        {
          "output_type": "stream",
          "name": "stdout",
          "text": [
            "Cloning into 'sharktrack'...\n",
            "remote: Enumerating objects: 1297, done.\u001b[K\n",
            "remote: Counting objects: 100% (197/197), done.\u001b[K\n",
            "remote: Compressing objects: 100% (125/125), done.\u001b[K\n",
            "remote: Total 1297 (delta 120), reused 128 (delta 71), pack-reused 1100 (from 1)\u001b[K\n",
            "Receiving objects: 100% (1297/1297), 320.64 MiB | 28.37 MiB/s, done.\n",
            "Resolving deltas: 100% (647/647), done.\n"
          ]
        }
      ]
    },
    {
      "cell_type": "markdown",
      "source": [
        "Check that the git respository has been correctly linked\n"
      ],
      "metadata": {
        "id": "AWO0015hRKMk"
      }
    },
    {
      "source": [
        "!ls /content/sharktrack"
      ],
      "cell_type": "code",
      "metadata": {
        "colab": {
          "base_uri": "https://localhost:8080/"
        },
        "collapsed": true,
        "id": "oGepEmh0Q4Bb",
        "outputId": "7fae91c4-7cad-4493-9b31-e17dde0b35b3"
      },
      "execution_count": null,
      "outputs": [
        {
          "output_type": "stream",
          "name": "stdout",
          "text": [
            "annotation-pipelines.md  input_videos\tmodels\t   requirements.txt\t     static  trackers\n",
            "app.py\t\t\t MAYABAY.ipynb\treadme.md  sharktrack-user-guide.md  tests   utils\n"
          ]
        }
      ]
    },
    {
      "cell_type": "markdown",
      "source": [
        "set as working directory:"
      ],
      "metadata": {
        "id": "jCy8_vnji_yw"
      }
    },
    {
      "source": [
        "import os\n",
        "os.chdir('/content/sharktrack')"
      ],
      "cell_type": "code",
      "metadata": {
        "id": "v1iBGXtQW33g"
      },
      "execution_count": null,
      "outputs": []
    },
    {
      "cell_type": "markdown",
      "source": [
        "Now, let's set up our environment and install requirements:"
      ],
      "metadata": {
        "id": "57T13em2Vo9j"
      }
    },
    {
      "cell_type": "code",
      "source": [
        "!apt install python3-venv"
      ],
      "metadata": {
        "collapsed": true,
        "id": "YXdlmS40WbMK"
      },
      "execution_count": null,
      "outputs": []
    },
    {
      "cell_type": "code",
      "source": [
        "!python3 -m venv venv\n",
        "!source venv/bin/activate\n",
        "!pip install -r requirements.txt\n",
        "!pip install pandas==2.2.2"
      ],
      "metadata": {
        "collapsed": true,
        "id": "NiK4l_ZGVobT"
      },
      "execution_count": null,
      "outputs": []
    },
    {
      "cell_type": "markdown",
      "source": [
        "# 2. Run Sharktrack AI\n"
      ],
      "metadata": {
        "id": "OXqVRataPBRi"
      }
    },
    {
      "cell_type": "markdown",
      "source": [
        "Now what we need to do, is to be able to run 'app.py' from 'sharktrack' but while bringing the 'input_videos' path to /content/drive/MyDrive/3.2_MAYA_BAY_BLACKTIPS/input_videos"
      ],
      "metadata": {
        "id": "4R_RDfKQRQkk"
      }
    },
    {
      "cell_type": "code",
      "source": [
        "!python /content/sharktrack/app.py \\\n",
        "--input /content/drive/MyDrive/3.2_MAYA_BAY_BLACKTIPS/input_videos/ \\\n",
        "--output /content/drive/MyDrive/3.2_MAYA_BAY_BLACKTIPS/outputs \\\n",
        "--resume # if the sharktrack AI stopped early"
      ],
      "metadata": {
        "id": "cKHjhyN9QiWL"
      },
      "execution_count": null,
      "outputs": []
    },
    {
      "cell_type": "markdown",
      "source": [
        "## 2.2 When the AI finishes..."
      ],
      "metadata": {
        "id": "30xG3ndiyIJF"
      }
    },
    {
      "cell_type": "markdown",
      "source": [
        "make a sound when done"
      ],
      "metadata": {
        "id": "LftfA8p-jGOT"
      }
    },
    {
      "cell_type": "code",
      "source": [
        "import os\n",
        "# For macOS\n",
        "os.system(\"afplay /System/Library/Sounds/Tink.aiff\")"
      ],
      "metadata": {
        "id": "rqPl5ndClEOR"
      },
      "execution_count": null,
      "outputs": []
    },
    {
      "cell_type": "markdown",
      "source": [
        "unassign the runtime when done so as to not go over limits"
      ],
      "metadata": {
        "id": "VB_pZEH7jIKF"
      }
    },
    {
      "cell_type": "code",
      "source": [
        "from google.colab import runtime\n",
        "runtime.unassign()"
      ],
      "metadata": {
        "id": "iHz3zjQlZu1i"
      },
      "execution_count": null,
      "outputs": []
    },
    {
      "cell_type": "code",
      "source": [
        "!ls /content/drive/MyDrive/3.2_MAYA_BAY_BLACKTIPS/input_videos/"
      ],
      "metadata": {
        "id": "s-TryvJ0nuNL"
      },
      "execution_count": null,
      "outputs": []
    },
    {
      "cell_type": "markdown",
      "source": [
        "# 2.3. **Now, go and annotate the videos by hand before you return for the next steps.**\n"
      ],
      "metadata": {
        "id": "9A056tnOooCw"
      }
    },
    {
      "cell_type": "markdown",
      "source": [
        "# 3. COMPUTE MaxN"
      ],
      "metadata": {
        "id": "-DgiSGfn6dWn"
      }
    },
    {
      "cell_type": "markdown",
      "source": [
        "\n",
        "## 3.0 Before computing MaxN must do this *one* time.\n",
        "The video path column in outputs.csv is blank. We can add it here by appending the path with the video name like this:"
      ],
      "metadata": {
        "id": "e_kHeNKNhvlP"
      }
    },
    {
      "cell_type": "code",
      "source": [
        "import pandas as pd\n",
        "\n",
        "df = pd.read_csv('/content/drive/MyDrive/3.2_MAYA_BAY_BLACKTIPS/outputs/internal_results/output.csv')\n",
        "print(df.head()) # check if needed\n"
      ],
      "metadata": {
        "colab": {
          "base_uri": "https://localhost:8080/"
        },
        "id": "9MuR2ReyiNkX",
        "outputId": "7e91953c-18d0-4a06-e19b-ca5ace72bc6a",
        "collapsed": true
      },
      "execution_count": null,
      "outputs": [
        {
          "output_type": "stream",
          "name": "stdout",
          "text": [
            "                                          video_path  \\\n",
            "0  /content/drive/MyDrive/3.2_MAYA_BAY_BLACKTIPS/...   \n",
            "1  /content/drive/MyDrive/3.2_MAYA_BAY_BLACKTIPS/...   \n",
            "2  /content/drive/MyDrive/3.2_MAYA_BAY_BLACKTIPS/...   \n",
            "3  /content/drive/MyDrive/3.2_MAYA_BAY_BLACKTIPS/...   \n",
            "4  /content/drive/MyDrive/3.2_MAYA_BAY_BLACKTIPS/...   \n",
            "\n",
            "                   video_name   frame               time         xmin  \\\n",
            "0  B_MY2_01_181223_1700E1.MP4   541.0  00h:00m:09s:009ms    19.775038   \n",
            "1  B_MY2_01_181223_1700E1.MP4   561.0  00h:00m:09s:342ms     3.485797   \n",
            "2  B_MY2_01_181223_1700E1.MP4   581.0  00h:00m:09s:676ms     0.280212   \n",
            "3  B_MY2_01_181223_1700E1.MP4  1261.0  00h:00m:21s:021ms  1218.452026   \n",
            "4  B_MY2_01_181223_1700E1.MP4  1881.0  00h:00m:31s:364ms  1949.991333   \n",
            "\n",
            "          ymin         xmax         ymax       w       h  confidence  \\\n",
            "0    30.410229  2650.185059   795.674011  2704.0  1520.0    0.492467   \n",
            "1    34.629547  2675.065430  1060.798706  2704.0  1520.0    0.446016   \n",
            "2    33.102634  2684.750244   949.237671  2704.0  1520.0    0.458619   \n",
            "3   203.145294  2163.482178   776.531555  2704.0  1520.0    0.480249   \n",
            "4  1077.339722  2693.015625  1506.635254  2704.0  1520.0    0.827883   \n",
            "\n",
            "          label                                     track_metadata  track_id  \n",
            "0  elasmobranch  /content/drive/MyDrive/3.2_MAYA_BAY_BLACKTIPS/...       0.0  \n",
            "1  elasmobranch  /content/drive/MyDrive/3.2_MAYA_BAY_BLACKTIPS/...       0.0  \n",
            "2  elasmobranch  /content/drive/MyDrive/3.2_MAYA_BAY_BLACKTIPS/...       0.0  \n",
            "3  elasmobranch  /content/drive/MyDrive/3.2_MAYA_BAY_BLACKTIPS/...       0.0  \n",
            "4  elasmobranch  /content/drive/MyDrive/3.2_MAYA_BAY_BLACKTIPS/...       1.0  \n"
          ]
        },
        {
          "output_type": "stream",
          "name": "stderr",
          "text": [
            "<ipython-input-45-0d2c2f244775>:3: DtypeWarning: Columns (0,1,3,11,12) have mixed types. Specify dtype option on import or set low_memory=False.\n",
            "  df = pd.read_csv('/content/drive/MyDrive/3.2_MAYA_BAY_BLACKTIPS/outputs/internal_results/output.csv')\n"
          ]
        }
      ]
    },
    {
      "cell_type": "code",
      "source": [
        "# append video_name to video_path\n",
        "video_path = '/content/drive/MyDrive/3.2_MAYA_BAY_BLACKTIPS/input_videos/'\n",
        "df['video_path'] = video_path + df['video_name']\n",
        "\n",
        "original_file_path = '/content/drive/MyDrive/3.2_MAYA_BAY_BLACKTIPS/outputs/internal_results/output.csv'\n",
        "df.to_csv(original_file_path, index=False, mode='w')"
      ],
      "metadata": {
        "collapsed": true,
        "id": "JRhi9sbloFUW"
      },
      "execution_count": null,
      "outputs": []
    },
    {
      "cell_type": "markdown",
      "source": [
        "Check if it worked by printing the first few rows of data"
      ],
      "metadata": {
        "id": "gI2QInlOlumF"
      }
    },
    {
      "cell_type": "code",
      "source": [
        "print(df.tail())"
      ],
      "metadata": {
        "colab": {
          "base_uri": "https://localhost:8080/"
        },
        "id": "kmf2eLFSpsed",
        "outputId": "e07d1381-86be-4e97-e064-70cce7c62fd6",
        "collapsed": true
      },
      "execution_count": null,
      "outputs": [
        {
          "output_type": "stream",
          "name": "stdout",
          "text": [
            "                                               video_path  \\\n",
            "621990  /content/drive/MyDrive/3.2_MAYA_BAY_BLACKTIPS/...   \n",
            "621991  /content/drive/MyDrive/3.2_MAYA_BAY_BLACKTIPS/...   \n",
            "621992  /content/drive/MyDrive/3.2_MAYA_BAY_BLACKTIPS/...   \n",
            "621993  /content/drive/MyDrive/3.2_MAYA_BAY_BLACKTIPS/...   \n",
            "621994  /content/drive/MyDrive/3.2_MAYA_BAY_BLACKTIPS/...   \n",
            "\n",
            "                        video_name    frame               time        xmin  \\\n",
            "621990  B_MY2_10_201223_1855E3.MP4  25821.0  00h:07m:10s:763ms  627.398010   \n",
            "621991  B_MY2_10_201223_1855E3.MP4  25861.0  00h:07m:11s:431ms  403.202881   \n",
            "621992  B_MY2_10_201223_1855E3.MP4  25881.0  00h:07m:11s:764ms  151.268478   \n",
            "621993  B_MY2_10_201223_1855E3.MP4  25901.0  00h:07m:12s:098ms   47.332443   \n",
            "621994  B_MY2_10_201223_1855E3.MP4  25921.0  00h:07m:12s:432ms    0.384940   \n",
            "\n",
            "              ymin         xmax         ymax       w       h  confidence  \\\n",
            "621990  491.133453  1145.000488   884.326050  1920.0  1080.0    0.736510   \n",
            "621991  652.086792   986.336670   991.070679  1920.0  1080.0    0.405838   \n",
            "621992  539.167603   805.831909   997.866272  1920.0  1080.0    0.754350   \n",
            "621993  589.172485   840.735107  1070.765991  1920.0  1080.0    0.453966   \n",
            "621994  449.887939   601.360474  1022.226135  1920.0  1080.0    0.604993   \n",
            "\n",
            "               label                                     track_metadata  \\\n",
            "621990  elasmobranch  /content/drive/MyDrive/3.2_MAYA_BAY_BLACKTIPS/...   \n",
            "621991  elasmobranch  /content/drive/MyDrive/3.2_MAYA_BAY_BLACKTIPS/...   \n",
            "621992  elasmobranch  /content/drive/MyDrive/3.2_MAYA_BAY_BLACKTIPS/...   \n",
            "621993  elasmobranch  /content/drive/MyDrive/3.2_MAYA_BAY_BLACKTIPS/...   \n",
            "621994  elasmobranch  /content/drive/MyDrive/3.2_MAYA_BAY_BLACKTIPS/...   \n",
            "\n",
            "        track_id  \n",
            "621990    6113.0  \n",
            "621991    6113.0  \n",
            "621992    6113.0  \n",
            "621993    6113.0  \n",
            "621994    6113.0  \n"
          ]
        }
      ]
    },
    {
      "cell_type": "code",
      "source": [
        "print(df.head())"
      ],
      "metadata": {
        "id": "xyBgFJiPinn3",
        "colab": {
          "base_uri": "https://localhost:8080/"
        },
        "outputId": "21be79fc-bcdb-49d0-89be-0c7768da3c6a",
        "collapsed": true
      },
      "execution_count": null,
      "outputs": [
        {
          "output_type": "stream",
          "name": "stdout",
          "text": [
            "                                          video_path  \\\n",
            "0  /content/drive/MyDrive/3.2_MAYA_BAY_BLACKTIPS/...   \n",
            "1  /content/drive/MyDrive/3.2_MAYA_BAY_BLACKTIPS/...   \n",
            "2  /content/drive/MyDrive/3.2_MAYA_BAY_BLACKTIPS/...   \n",
            "3  /content/drive/MyDrive/3.2_MAYA_BAY_BLACKTIPS/...   \n",
            "4  /content/drive/MyDrive/3.2_MAYA_BAY_BLACKTIPS/...   \n",
            "\n",
            "                   video_name   frame               time         xmin  \\\n",
            "0  B_MY2_01_181223_1700E1.MP4   541.0  00h:00m:09s:009ms    19.775038   \n",
            "1  B_MY2_01_181223_1700E1.MP4   561.0  00h:00m:09s:342ms     3.485797   \n",
            "2  B_MY2_01_181223_1700E1.MP4   581.0  00h:00m:09s:676ms     0.280212   \n",
            "3  B_MY2_01_181223_1700E1.MP4  1261.0  00h:00m:21s:021ms  1218.452026   \n",
            "4  B_MY2_01_181223_1700E1.MP4  1881.0  00h:00m:31s:364ms  1949.991333   \n",
            "\n",
            "          ymin         xmax         ymax       w       h  confidence  \\\n",
            "0    30.410229  2650.185059   795.674011  2704.0  1520.0    0.492467   \n",
            "1    34.629547  2675.065430  1060.798706  2704.0  1520.0    0.446016   \n",
            "2    33.102634  2684.750244   949.237671  2704.0  1520.0    0.458619   \n",
            "3   203.145294  2163.482178   776.531555  2704.0  1520.0    0.480249   \n",
            "4  1077.339722  2693.015625  1506.635254  2704.0  1520.0    0.827883   \n",
            "\n",
            "          label                                     track_metadata  track_id  \n",
            "0  elasmobranch  /content/drive/MyDrive/3.2_MAYA_BAY_BLACKTIPS/...       0.0  \n",
            "1  elasmobranch  /content/drive/MyDrive/3.2_MAYA_BAY_BLACKTIPS/...       0.0  \n",
            "2  elasmobranch  /content/drive/MyDrive/3.2_MAYA_BAY_BLACKTIPS/...       0.0  \n",
            "3  elasmobranch  /content/drive/MyDrive/3.2_MAYA_BAY_BLACKTIPS/...       0.0  \n",
            "4  elasmobranch  /content/drive/MyDrive/3.2_MAYA_BAY_BLACKTIPS/...       1.0  \n"
          ]
        }
      ]
    },
    {
      "cell_type": "markdown",
      "source": [
        "## 3.1.  Compute MaxN (*finally!*)"
      ],
      "metadata": {
        "id": "g6ho8w7sx00v"
      }
    },
    {
      "cell_type": "markdown",
      "source": [
        "You can compute MaxN locally by following the steps below:\n",
        "\n",
        "Open the Prompt/Terminal at the sharktrack folder location as you did when running the model in the User Guide step.\n",
        "\n",
        "Activate the virtual environment (guide here)\n",
        "\n",
        "Run python utils/compute_maxn.py --path <output_path>, replacing <output_path> with the path of the folder that contains the output.csv file and all the detection folders.\n",
        "\n",
        "Example: python utils/compute_maxn.py --path output\n",
        "\n",
        "You can optionally provide a path to the original videos, to output the MaxN jpg Frames\n",
        "\n",
        "You will see a maxn.csv file in the SharkTrack folder under outputs / analysed\n",
        "\n",
        "The MaxN jpg frames get saved to the input_videos folder (because of a weird issue with google collab) in seperate folders for each video.\n"
      ],
      "metadata": {
        "id": "ddCul6_358le"
      }
    },
    {
      "cell_type": "code",
      "source": [
        "!python utils/compute_maxn.py --path /content/drive/MyDrive/3.2_MAYA_BAY_BLACKTIPS/outputs\n"
      ],
      "metadata": {
        "id": "uP2zAuT1571n",
        "colab": {
          "base_uri": "https://localhost:8080/"
        },
        "outputId": "67d9060a-2446-4af7-a46b-50d8efa0327c"
      },
      "execution_count": null,
      "outputs": [
        {
          "output_type": "stream",
          "name": "stdout",
          "text": [
            "Path to original videos (to compute maxn screenshots) [N/A]: /content/drive/MyDrive/3.2_MAYA_BAY_BLACKTIPS/input_videos\n",
            "Are your videos split in chapters? [y/N]: N\n",
            "Computing MaxN from annotations cleaned locally...\n",
            "/content/sharktrack/utils/compute_maxn.py:46: DtypeWarning: Columns (0,1,3,11,12) have mixed types. Specify dtype option on import or set low_memory=False.\n",
            "  return pd.read_csv(original_output_path)\n",
            "/content/sharktrack/utils/compute_maxn.py:66: DeprecationWarning: DataFrameGroupBy.apply operated on the grouping columns. This behavior is deprecated, and in a future version of pandas the grouping columns will be excluded from the operation. Either pass `include_groups=False` to exclude the groupings or explicitly select the grouping columns after groupby to silence this warning.\n",
            "  maxn = frame_box_cnt.groupby([\"video_path\", \"video_name\", \"label\"], as_index=False, dropna=False).apply(lambda grp: grp.nlargest(1, \"n\"))\n",
            "MaxN computed! Check in the folder /content/drive/MyDrive/3.2_MAYA_BAY_BLACKTIPS/outputs/analysed/maxn.csv\n",
            "MaxN confidence achieved 100%\n"
          ]
        }
      ]
    },
    {
      "cell_type": "code",
      "source": [
        " #input video path:\n",
        "\n",
        "#  /content/drive/MyDrive/3.2_MAYA_BAY_BLACKTIPS/input_videos"
      ],
      "metadata": {
        "id": "5hOtPY-_6SFH"
      },
      "execution_count": null,
      "outputs": []
    },
    {
      "cell_type": "markdown",
      "source": [
        "### Checking some things. Not needed.\n"
      ],
      "metadata": {
        "id": "S5LMV1rMRb2y"
      }
    },
    {
      "cell_type": "code",
      "source": [
        "import pandas as pd\n",
        "\n",
        "df = pd.read_csv('/content/drive/MyDrive/3.2_MAYA_BAY_BLACKTIPS/outputs/internal_results/overview.csv')\n",
        "print(df.tail()) # check if needed"
      ],
      "metadata": {
        "id": "8coGDBUip1y4"
      },
      "execution_count": null,
      "outputs": []
    },
    {
      "source": [
        "import pandas as pd\n",
        "\n",
        "# Read the CSV file into a pandas DataFrame\n",
        "df = pd.read_csv('/content/drive/MyDrive/3.2_MAYA_BAY_BLACKTIPS/outputs/internal_results/output.csv')\n",
        "\n",
        "# Filter the DataFrame for rows where the video name is 'B_MY2_20_231223_1145E1.MP4'\n",
        "filtered_df = df[df['video_name'] == 'B_MY2_10_201223_1855E3.MP4']\n",
        "\n",
        "# Print the filtered DataFrame\n",
        "print(filtered_df)"
      ],
      "cell_type": "code",
      "metadata": {
        "id": "XIGFBdAPV--9"
      },
      "execution_count": null,
      "outputs": []
    },
    {
      "cell_type": "markdown",
      "source": [
        "## *how to make google collab not disconect when running the code for a long time*"
      ],
      "metadata": {
        "id": "4GCWM8NOxAZi"
      }
    },
    {
      "cell_type": "markdown",
      "source": [
        "As of June 2023, here's the working javascript code for preventing Google colab from disconnecting due to inactivity.\n",
        "\n",
        "```\n",
        " function keepAliveProgrammatically() {\n",
        "  document.querySelector('colab-connect-button').shadowRoot.querySelector(\"#connect\").click();\n",
        "}\n",
        "```\n",
        "The function above is responsible for clicking the compute resources button It is clicked after every 60 seconds. The code snippet below is responsible for running the function.\n",
        "```\n",
        "const keepAliveProgrammaticallyInterval = setInterval(() => {\n",
        "    keepAliveProgrammatically();\n",
        "}, 60000);\n",
        "```\n",
        "To stop the code, use the code snippet below.\n",
        "```\n",
        "clearInterval(keepAliveProgrammaticallyInterval);\n",
        "```"
      ],
      "metadata": {
        "id": "-5ZJXpt-XO8K"
      }
    }
  ]
}