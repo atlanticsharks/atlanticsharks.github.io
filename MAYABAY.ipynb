{
  "nbformat": 4,
  "nbformat_minor": 0,
  "metadata": {
    "colab": {
      "provenance": [],
      "gpuType": "T4",
      "mount_file_id": "1PP0oH-DtFugjAPrhQMiRI5W6RxQTiZDR",
      "authorship_tag": "ABX9TyNGmXQtRnppDh9btN49Ed6b",
      "include_colab_link": true
    },
    "kernelspec": {
      "name": "python3",
      "display_name": "Python 3"
    },
    "language_info": {
      "name": "python"
    },
    "accelerator": "GPU"
  },
  "cells": [
    {
      "cell_type": "markdown",
      "metadata": {
        "id": "view-in-github",
        "colab_type": "text"
      },
      "source": [
        "<a href=\"https://colab.research.google.com/github/atlanticsharks/atlanticsharks.github.io/blob/main/MAYABAY.ipynb\" target=\"_parent\"><img src=\"https://colab.research.google.com/assets/colab-badge.svg\" alt=\"Open In Colab\"/></a>"
      ]
    },
    {
      "cell_type": "markdown",
      "source": [
        "# 1. SET UP"
      ],
      "metadata": {
        "id": "nlL88QwWPDA5"
      }
    },
    {
      "cell_type": "markdown",
      "source": [
        "https://github.com/filippovarini/sharktrack/blob/master/sharktrack-user-guide.md"
      ],
      "metadata": {
        "id": "lB5c-HJU5i0r"
      }
    },
    {
      "cell_type": "markdown",
      "source": [
        "Mount google drive files to /content/drive so that they can be accessed within this script\n"
      ],
      "metadata": {
        "id": "shi2Pcv9OwL4"
      }
    },
    {
      "source": [
        "from google.colab import drive"
      ],
      "cell_type": "code",
      "metadata": {
        "id": "SgamLkZzM0MH"
      },
      "execution_count": 1,
      "outputs": []
    },
    {
      "source": [
        "drive.mount('/content/drive')"
      ],
      "cell_type": "code",
      "metadata": {
        "colab": {
          "base_uri": "https://localhost:8080/"
        },
        "id": "LM-X5XAnM0ly",
        "outputId": "b3cd3ccf-6766-4c13-f2a0-2a986365c7ec"
      },
      "execution_count": 2,
      "outputs": [
        {
          "output_type": "stream",
          "name": "stdout",
          "text": [
            "Drive already mounted at /content/drive; to attempt to forcibly remount, call drive.mount(\"/content/drive\", force_remount=True).\n"
          ]
        }
      ]
    },
    {
      "cell_type": "markdown",
      "source": [
        "Clone the git repository for sharktrack AI originally from github.com/filippovarini but modified for google collab here"
      ],
      "metadata": {
        "id": "zMxLBMvbO6ga"
      }
    },
    {
      "cell_type": "code",
      "source": [
        "!git clone https://github.com/atlanticsharks/sharktrackAI.git sharktrack"
      ],
      "metadata": {
        "colab": {
          "base_uri": "https://localhost:8080/"
        },
        "collapsed": true,
        "id": "W89-wnUKNaoy",
        "outputId": "f2e76edb-ee20-4a14-9df6-210e2e8a581d"
      },
      "execution_count": 3,
      "outputs": [
        {
          "output_type": "stream",
          "name": "stdout",
          "text": [
            "Cloning into 'sharktrack'...\n",
            "remote: Enumerating objects: 1297, done.\u001b[K\n",
            "remote: Counting objects: 100% (197/197), done.\u001b[K\n",
            "remote: Compressing objects: 100% (125/125), done.\u001b[K\n",
            "remote: Total 1297 (delta 120), reused 128 (delta 71), pack-reused 1100 (from 1)\u001b[K\n",
            "Receiving objects: 100% (1297/1297), 320.64 MiB | 28.37 MiB/s, done.\n",
            "Resolving deltas: 100% (647/647), done.\n"
          ]
        }
      ]
    },
    {
      "cell_type": "markdown",
      "source": [
        "Check that the git respository has been correctly linked\n"
      ],
      "metadata": {
        "id": "AWO0015hRKMk"
      }
    },
    {
      "source": [
        "!ls /content/sharktrack"
      ],
      "cell_type": "code",
      "metadata": {
        "colab": {
          "base_uri": "https://localhost:8080/"
        },
        "collapsed": true,
        "id": "oGepEmh0Q4Bb",
        "outputId": "7fae91c4-7cad-4493-9b31-e17dde0b35b3"
      },
      "execution_count": 4,
      "outputs": [
        {
          "output_type": "stream",
          "name": "stdout",
          "text": [
            "annotation-pipelines.md  input_videos\tmodels\t   requirements.txt\t     static  trackers\n",
            "app.py\t\t\t MAYABAY.ipynb\treadme.md  sharktrack-user-guide.md  tests   utils\n"
          ]
        }
      ]
    },
    {
      "cell_type": "markdown",
      "source": [
        "set as working directory:"
      ],
      "metadata": {
        "id": "jCy8_vnji_yw"
      }
    },
    {
      "source": [
        "import os\n",
        "os.chdir('/content/sharktrack')"
      ],
      "cell_type": "code",
      "metadata": {
        "id": "v1iBGXtQW33g"
      },
      "execution_count": 5,
      "outputs": []
    },
    {
      "cell_type": "markdown",
      "source": [
        "Now, let's set up our environment and install requirements:"
      ],
      "metadata": {
        "id": "57T13em2Vo9j"
      }
    },
    {
      "cell_type": "code",
      "source": [
        "!apt install python3-venv"
      ],
      "metadata": {
        "colab": {
          "base_uri": "https://localhost:8080/"
        },
        "collapsed": true,
        "id": "YXdlmS40WbMK",
        "outputId": "649a4b15-1d69-4a2f-c4f4-af0fe9c63385"
      },
      "execution_count": 6,
      "outputs": [
        {
          "output_type": "stream",
          "name": "stdout",
          "text": [
            "Reading package lists... Done\n",
            "Building dependency tree... Done\n",
            "Reading state information... Done\n",
            "The following additional packages will be installed:\n",
            "  python3-pip-whl python3-setuptools-whl python3.10-venv\n",
            "The following NEW packages will be installed:\n",
            "  python3-pip-whl python3-setuptools-whl python3-venv python3.10-venv\n",
            "0 upgraded, 4 newly installed, 0 to remove and 49 not upgraded.\n",
            "Need to get 2,475 kB of archives.\n",
            "After this operation, 2,891 kB of additional disk space will be used.\n",
            "Get:1 http://archive.ubuntu.com/ubuntu jammy-updates/universe amd64 python3-pip-whl all 22.0.2+dfsg-1ubuntu0.4 [1,680 kB]\n",
            "Get:2 http://archive.ubuntu.com/ubuntu jammy-updates/universe amd64 python3-setuptools-whl all 59.6.0-1.2ubuntu0.22.04.2 [788 kB]\n",
            "Get:3 http://archive.ubuntu.com/ubuntu jammy-updates/universe amd64 python3.10-venv amd64 3.10.12-1~22.04.6 [5,722 B]\n",
            "Get:4 http://archive.ubuntu.com/ubuntu jammy-updates/universe amd64 python3-venv amd64 3.10.6-1~22.04.1 [1,042 B]\n",
            "Fetched 2,475 kB in 1s (2,813 kB/s)\n",
            "Selecting previously unselected package python3-pip-whl.\n",
            "(Reading database ... 123622 files and directories currently installed.)\n",
            "Preparing to unpack .../python3-pip-whl_22.0.2+dfsg-1ubuntu0.4_all.deb ...\n",
            "Unpacking python3-pip-whl (22.0.2+dfsg-1ubuntu0.4) ...\n",
            "Selecting previously unselected package python3-setuptools-whl.\n",
            "Preparing to unpack .../python3-setuptools-whl_59.6.0-1.2ubuntu0.22.04.2_all.deb ...\n",
            "Unpacking python3-setuptools-whl (59.6.0-1.2ubuntu0.22.04.2) ...\n",
            "Selecting previously unselected package python3.10-venv.\n",
            "Preparing to unpack .../python3.10-venv_3.10.12-1~22.04.6_amd64.deb ...\n",
            "Unpacking python3.10-venv (3.10.12-1~22.04.6) ...\n",
            "Selecting previously unselected package python3-venv.\n",
            "Preparing to unpack .../python3-venv_3.10.6-1~22.04.1_amd64.deb ...\n",
            "Unpacking python3-venv (3.10.6-1~22.04.1) ...\n",
            "Setting up python3-setuptools-whl (59.6.0-1.2ubuntu0.22.04.2) ...\n",
            "Setting up python3-pip-whl (22.0.2+dfsg-1ubuntu0.4) ...\n",
            "Setting up python3.10-venv (3.10.12-1~22.04.6) ...\n",
            "Setting up python3-venv (3.10.6-1~22.04.1) ...\n"
          ]
        }
      ]
    },
    {
      "cell_type": "code",
      "source": [
        "!python3 -m venv venv\n",
        "!source venv/bin/activate\n",
        "!pip install -r requirements.txt\n",
        "!pip install pandas==2.2.2"
      ],
      "metadata": {
        "colab": {
          "base_uri": "https://localhost:8080/"
        },
        "collapsed": true,
        "id": "NiK4l_ZGVobT",
        "outputId": "afb5f28e-679a-472a-cdf6-749450405978"
      },
      "execution_count": 7,
      "outputs": [
        {
          "output_type": "stream",
          "name": "stdout",
          "text": [
            "Collecting av==12.0.0 (from -r requirements.txt (line 1))\n",
            "  Downloading av-12.0.0-cp310-cp310-manylinux_2_17_x86_64.manylinux2014_x86_64.whl.metadata (4.6 kB)\n",
            "Collecting opencv-python==4.9.0.80 (from -r requirements.txt (line 2))\n",
            "  Downloading opencv_python-4.9.0.80-cp37-abi3-manylinux_2_17_x86_64.manylinux2014_x86_64.whl.metadata (20 kB)\n",
            "Collecting pandas==2.1.4 (from -r requirements.txt (line 3))\n",
            "  Downloading pandas-2.1.4-cp310-cp310-manylinux_2_17_x86_64.manylinux2014_x86_64.whl.metadata (18 kB)\n",
            "Collecting ultralytics==8.1.47 (from -r requirements.txt (line 4))\n",
            "  Downloading ultralytics-8.1.47-py3-none-any.whl.metadata (40 kB)\n",
            "\u001b[2K     \u001b[90m━━━━━━━━━━━━━━━━━━━━━━━━━━━━━━━━━━━━━━━━\u001b[0m \u001b[32m40.5/40.5 kB\u001b[0m \u001b[31m2.5 MB/s\u001b[0m eta \u001b[36m0:00:00\u001b[0m\n",
            "\u001b[?25hCollecting lapx==0.5.5 (from -r requirements.txt (line 5))\n",
            "  Downloading lapx-0.5.5-cp310-cp310-manylinux_2_5_x86_64.manylinux1_x86_64.manylinux_2_17_x86_64.manylinux2014_x86_64.whl.metadata (5.6 kB)\n",
            "Collecting dill==0.3.8 (from -r requirements.txt (line 6))\n",
            "  Downloading dill-0.3.8-py3-none-any.whl.metadata (10 kB)\n",
            "Requirement already satisfied: click in /usr/local/lib/python3.10/dist-packages (from -r requirements.txt (line 7)) (8.1.7)\n",
            "Requirement already satisfied: tqdm in /usr/local/lib/python3.10/dist-packages (from -r requirements.txt (line 8)) (4.66.5)\n",
            "Requirement already satisfied: numpy>=1.21.2 in /usr/local/lib/python3.10/dist-packages (from opencv-python==4.9.0.80->-r requirements.txt (line 2)) (1.26.4)\n",
            "Requirement already satisfied: python-dateutil>=2.8.2 in /usr/local/lib/python3.10/dist-packages (from pandas==2.1.4->-r requirements.txt (line 3)) (2.8.2)\n",
            "Requirement already satisfied: pytz>=2020.1 in /usr/local/lib/python3.10/dist-packages (from pandas==2.1.4->-r requirements.txt (line 3)) (2024.2)\n",
            "Requirement already satisfied: tzdata>=2022.1 in /usr/local/lib/python3.10/dist-packages (from pandas==2.1.4->-r requirements.txt (line 3)) (2024.2)\n",
            "Requirement already satisfied: matplotlib>=3.3.0 in /usr/local/lib/python3.10/dist-packages (from ultralytics==8.1.47->-r requirements.txt (line 4)) (3.7.1)\n",
            "Requirement already satisfied: pillow>=7.1.2 in /usr/local/lib/python3.10/dist-packages (from ultralytics==8.1.47->-r requirements.txt (line 4)) (10.4.0)\n",
            "Requirement already satisfied: pyyaml>=5.3.1 in /usr/local/lib/python3.10/dist-packages (from ultralytics==8.1.47->-r requirements.txt (line 4)) (6.0.2)\n",
            "Requirement already satisfied: requests>=2.23.0 in /usr/local/lib/python3.10/dist-packages (from ultralytics==8.1.47->-r requirements.txt (line 4)) (2.32.3)\n",
            "Requirement already satisfied: scipy>=1.4.1 in /usr/local/lib/python3.10/dist-packages (from ultralytics==8.1.47->-r requirements.txt (line 4)) (1.13.1)\n",
            "Requirement already satisfied: torch>=1.8.0 in /usr/local/lib/python3.10/dist-packages (from ultralytics==8.1.47->-r requirements.txt (line 4)) (2.5.0+cu121)\n",
            "Requirement already satisfied: torchvision>=0.9.0 in /usr/local/lib/python3.10/dist-packages (from ultralytics==8.1.47->-r requirements.txt (line 4)) (0.20.0+cu121)\n",
            "Requirement already satisfied: psutil in /usr/local/lib/python3.10/dist-packages (from ultralytics==8.1.47->-r requirements.txt (line 4)) (5.9.5)\n",
            "Requirement already satisfied: py-cpuinfo in /usr/local/lib/python3.10/dist-packages (from ultralytics==8.1.47->-r requirements.txt (line 4)) (9.0.0)\n",
            "Collecting thop>=0.1.1 (from ultralytics==8.1.47->-r requirements.txt (line 4))\n",
            "  Downloading thop-0.1.1.post2209072238-py3-none-any.whl.metadata (2.7 kB)\n",
            "Requirement already satisfied: seaborn>=0.11.0 in /usr/local/lib/python3.10/dist-packages (from ultralytics==8.1.47->-r requirements.txt (line 4)) (0.13.2)\n",
            "Requirement already satisfied: Cython>=0.29.32 in /usr/local/lib/python3.10/dist-packages (from lapx==0.5.5->-r requirements.txt (line 5)) (3.0.11)\n",
            "Requirement already satisfied: contourpy>=1.0.1 in /usr/local/lib/python3.10/dist-packages (from matplotlib>=3.3.0->ultralytics==8.1.47->-r requirements.txt (line 4)) (1.3.0)\n",
            "Requirement already satisfied: cycler>=0.10 in /usr/local/lib/python3.10/dist-packages (from matplotlib>=3.3.0->ultralytics==8.1.47->-r requirements.txt (line 4)) (0.12.1)\n",
            "Requirement already satisfied: fonttools>=4.22.0 in /usr/local/lib/python3.10/dist-packages (from matplotlib>=3.3.0->ultralytics==8.1.47->-r requirements.txt (line 4)) (4.54.1)\n",
            "Requirement already satisfied: kiwisolver>=1.0.1 in /usr/local/lib/python3.10/dist-packages (from matplotlib>=3.3.0->ultralytics==8.1.47->-r requirements.txt (line 4)) (1.4.7)\n",
            "Requirement already satisfied: packaging>=20.0 in /usr/local/lib/python3.10/dist-packages (from matplotlib>=3.3.0->ultralytics==8.1.47->-r requirements.txt (line 4)) (24.1)\n",
            "Requirement already satisfied: pyparsing>=2.3.1 in /usr/local/lib/python3.10/dist-packages (from matplotlib>=3.3.0->ultralytics==8.1.47->-r requirements.txt (line 4)) (3.2.0)\n",
            "Requirement already satisfied: six>=1.5 in /usr/local/lib/python3.10/dist-packages (from python-dateutil>=2.8.2->pandas==2.1.4->-r requirements.txt (line 3)) (1.16.0)\n",
            "Requirement already satisfied: charset-normalizer<4,>=2 in /usr/local/lib/python3.10/dist-packages (from requests>=2.23.0->ultralytics==8.1.47->-r requirements.txt (line 4)) (3.4.0)\n",
            "Requirement already satisfied: idna<4,>=2.5 in /usr/local/lib/python3.10/dist-packages (from requests>=2.23.0->ultralytics==8.1.47->-r requirements.txt (line 4)) (3.10)\n",
            "Requirement already satisfied: urllib3<3,>=1.21.1 in /usr/local/lib/python3.10/dist-packages (from requests>=2.23.0->ultralytics==8.1.47->-r requirements.txt (line 4)) (2.2.3)\n",
            "Requirement already satisfied: certifi>=2017.4.17 in /usr/local/lib/python3.10/dist-packages (from requests>=2.23.0->ultralytics==8.1.47->-r requirements.txt (line 4)) (2024.8.30)\n",
            "Requirement already satisfied: filelock in /usr/local/lib/python3.10/dist-packages (from torch>=1.8.0->ultralytics==8.1.47->-r requirements.txt (line 4)) (3.16.1)\n",
            "Requirement already satisfied: typing-extensions>=4.8.0 in /usr/local/lib/python3.10/dist-packages (from torch>=1.8.0->ultralytics==8.1.47->-r requirements.txt (line 4)) (4.12.2)\n",
            "Requirement already satisfied: networkx in /usr/local/lib/python3.10/dist-packages (from torch>=1.8.0->ultralytics==8.1.47->-r requirements.txt (line 4)) (3.4.2)\n",
            "Requirement already satisfied: jinja2 in /usr/local/lib/python3.10/dist-packages (from torch>=1.8.0->ultralytics==8.1.47->-r requirements.txt (line 4)) (3.1.4)\n",
            "Requirement already satisfied: fsspec in /usr/local/lib/python3.10/dist-packages (from torch>=1.8.0->ultralytics==8.1.47->-r requirements.txt (line 4)) (2024.6.1)\n",
            "Requirement already satisfied: sympy==1.13.1 in /usr/local/lib/python3.10/dist-packages (from torch>=1.8.0->ultralytics==8.1.47->-r requirements.txt (line 4)) (1.13.1)\n",
            "Requirement already satisfied: mpmath<1.4,>=1.1.0 in /usr/local/lib/python3.10/dist-packages (from sympy==1.13.1->torch>=1.8.0->ultralytics==8.1.47->-r requirements.txt (line 4)) (1.3.0)\n",
            "Requirement already satisfied: MarkupSafe>=2.0 in /usr/local/lib/python3.10/dist-packages (from jinja2->torch>=1.8.0->ultralytics==8.1.47->-r requirements.txt (line 4)) (3.0.2)\n",
            "Downloading av-12.0.0-cp310-cp310-manylinux_2_17_x86_64.manylinux2014_x86_64.whl (33.8 MB)\n",
            "\u001b[2K   \u001b[90m━━━━━━━━━━━━━━━━━━━━━━━━━━━━━━━━━━━━━━━━\u001b[0m \u001b[32m33.8/33.8 MB\u001b[0m \u001b[31m12.8 MB/s\u001b[0m eta \u001b[36m0:00:00\u001b[0m\n",
            "\u001b[?25hDownloading opencv_python-4.9.0.80-cp37-abi3-manylinux_2_17_x86_64.manylinux2014_x86_64.whl (62.2 MB)\n",
            "\u001b[2K   \u001b[90m━━━━━━━━━━━━━━━━━━━━━━━━━━━━━━━━━━━━━━━━\u001b[0m \u001b[32m62.2/62.2 MB\u001b[0m \u001b[31m12.1 MB/s\u001b[0m eta \u001b[36m0:00:00\u001b[0m\n",
            "\u001b[?25hDownloading pandas-2.1.4-cp310-cp310-manylinux_2_17_x86_64.manylinux2014_x86_64.whl (12.3 MB)\n",
            "\u001b[2K   \u001b[90m━━━━━━━━━━━━━━━━━━━━━━━━━━━━━━━━━━━━━━━━\u001b[0m \u001b[32m12.3/12.3 MB\u001b[0m \u001b[31m71.5 MB/s\u001b[0m eta \u001b[36m0:00:00\u001b[0m\n",
            "\u001b[?25hDownloading ultralytics-8.1.47-py3-none-any.whl (750 kB)\n",
            "\u001b[2K   \u001b[90m━━━━━━━━━━━━━━━━━━━━━━━━━━━━━━━━━━━━━━━━\u001b[0m \u001b[32m750.4/750.4 kB\u001b[0m \u001b[31m41.8 MB/s\u001b[0m eta \u001b[36m0:00:00\u001b[0m\n",
            "\u001b[?25hDownloading lapx-0.5.5-cp310-cp310-manylinux_2_5_x86_64.manylinux1_x86_64.manylinux_2_17_x86_64.manylinux2014_x86_64.whl (1.7 MB)\n",
            "\u001b[2K   \u001b[90m━━━━━━━━━━━━━━━━━━━━━━━━━━━━━━━━━━━━━━━━\u001b[0m \u001b[32m1.7/1.7 MB\u001b[0m \u001b[31m20.5 MB/s\u001b[0m eta \u001b[36m0:00:00\u001b[0m\n",
            "\u001b[?25hDownloading dill-0.3.8-py3-none-any.whl (116 kB)\n",
            "\u001b[2K   \u001b[90m━━━━━━━━━━━━━━━━━━━━━━━━━━━━━━━━━━━━━━━━\u001b[0m \u001b[32m116.3/116.3 kB\u001b[0m \u001b[31m10.6 MB/s\u001b[0m eta \u001b[36m0:00:00\u001b[0m\n",
            "\u001b[?25hDownloading thop-0.1.1.post2209072238-py3-none-any.whl (15 kB)\n",
            "Installing collected packages: opencv-python, lapx, dill, av, pandas, thop, ultralytics\n",
            "  Attempting uninstall: opencv-python\n",
            "    Found existing installation: opencv-python 4.10.0.84\n",
            "    Uninstalling opencv-python-4.10.0.84:\n",
            "      Successfully uninstalled opencv-python-4.10.0.84\n",
            "  Attempting uninstall: pandas\n",
            "    Found existing installation: pandas 2.2.2\n",
            "    Uninstalling pandas-2.2.2:\n",
            "      Successfully uninstalled pandas-2.2.2\n",
            "\u001b[31mERROR: pip's dependency resolver does not currently take into account all the packages that are installed. This behaviour is the source of the following dependency conflicts.\n",
            "google-colab 1.0.0 requires pandas==2.2.2, but you have pandas 2.1.4 which is incompatible.\u001b[0m\u001b[31m\n",
            "\u001b[0mSuccessfully installed av-12.0.0 dill-0.3.8 lapx-0.5.5 opencv-python-4.9.0.80 pandas-2.1.4 thop-0.1.1.post2209072238 ultralytics-8.1.47\n",
            "Collecting pandas==2.2.2\n",
            "  Downloading pandas-2.2.2-cp310-cp310-manylinux_2_17_x86_64.manylinux2014_x86_64.whl.metadata (19 kB)\n",
            "Requirement already satisfied: numpy>=1.22.4 in /usr/local/lib/python3.10/dist-packages (from pandas==2.2.2) (1.26.4)\n",
            "Requirement already satisfied: python-dateutil>=2.8.2 in /usr/local/lib/python3.10/dist-packages (from pandas==2.2.2) (2.8.2)\n",
            "Requirement already satisfied: pytz>=2020.1 in /usr/local/lib/python3.10/dist-packages (from pandas==2.2.2) (2024.2)\n",
            "Requirement already satisfied: tzdata>=2022.7 in /usr/local/lib/python3.10/dist-packages (from pandas==2.2.2) (2024.2)\n",
            "Requirement already satisfied: six>=1.5 in /usr/local/lib/python3.10/dist-packages (from python-dateutil>=2.8.2->pandas==2.2.2) (1.16.0)\n",
            "Downloading pandas-2.2.2-cp310-cp310-manylinux_2_17_x86_64.manylinux2014_x86_64.whl (13.0 MB)\n",
            "\u001b[2K   \u001b[90m━━━━━━━━━━━━━━━━━━━━━━━━━━━━━━━━━━━━━━━━\u001b[0m \u001b[32m13.0/13.0 MB\u001b[0m \u001b[31m109.3 MB/s\u001b[0m eta \u001b[36m0:00:00\u001b[0m\n",
            "\u001b[?25hInstalling collected packages: pandas\n",
            "  Attempting uninstall: pandas\n",
            "    Found existing installation: pandas 2.1.4\n",
            "    Uninstalling pandas-2.1.4:\n",
            "      Successfully uninstalled pandas-2.1.4\n",
            "Successfully installed pandas-2.2.2\n"
          ]
        }
      ]
    },
    {
      "cell_type": "markdown",
      "source": [
        "# 2. Run Sharktrack AI\n"
      ],
      "metadata": {
        "id": "OXqVRataPBRi"
      }
    },
    {
      "cell_type": "markdown",
      "source": [
        "Now what we need to do, is to be able to run 'app.py' from 'sharktrack' but while bringing the 'input_videos' path to /content/drive/MyDrive/3.2_MAYA_BAY_BLACKTIPS/input_videos"
      ],
      "metadata": {
        "id": "4R_RDfKQRQkk"
      }
    },
    {
      "cell_type": "code",
      "source": [
        "!python /content/sharktrack/app.py \\\n",
        "--input /content/drive/MyDrive/3.2_MAYA_BAY_BLACKTIPS/input_videos/ \\\n",
        "--output /content/drive/MyDrive/3.2_MAYA_BAY_BLACKTIPS/outputs \\\n",
        "--resume # if the sharktrack AI stopped early"
      ],
      "metadata": {
        "id": "cKHjhyN9QiWL"
      },
      "execution_count": null,
      "outputs": []
    },
    {
      "cell_type": "markdown",
      "source": [
        "## 2.2 When the AI finishes..."
      ],
      "metadata": {
        "id": "30xG3ndiyIJF"
      }
    },
    {
      "cell_type": "markdown",
      "source": [
        "make a sound when done"
      ],
      "metadata": {
        "id": "LftfA8p-jGOT"
      }
    },
    {
      "cell_type": "code",
      "source": [
        "import os\n",
        "# For macOS\n",
        "os.system(\"afplay /System/Library/Sounds/Tink.aiff\")"
      ],
      "metadata": {
        "id": "rqPl5ndClEOR"
      },
      "execution_count": null,
      "outputs": []
    },
    {
      "cell_type": "markdown",
      "source": [
        "unassign the runtime when done so as to not go over limits"
      ],
      "metadata": {
        "id": "VB_pZEH7jIKF"
      }
    },
    {
      "cell_type": "code",
      "source": [
        "from google.colab import runtime\n",
        "runtime.unassign()"
      ],
      "metadata": {
        "id": "iHz3zjQlZu1i"
      },
      "execution_count": null,
      "outputs": []
    },
    {
      "cell_type": "code",
      "source": [
        "!ls /content/drive/MyDrive/3.2_MAYA_BAY_BLACKTIPS/input_videos/"
      ],
      "metadata": {
        "id": "s-TryvJ0nuNL"
      },
      "execution_count": null,
      "outputs": []
    },
    {
      "cell_type": "markdown",
      "source": [
        "# 2.3. **Now, go and annotate the videos by hand before you return for the next steps.**\n"
      ],
      "metadata": {
        "id": "9A056tnOooCw"
      }
    },
    {
      "cell_type": "markdown",
      "source": [
        "# 3. COMPUTE MaxN"
      ],
      "metadata": {
        "id": "-DgiSGfn6dWn"
      }
    },
    {
      "cell_type": "markdown",
      "source": [
        "\n",
        "## 3.0 Before computing MaxN must do this *one* time.\n",
        "The video path column in outputs.csv is blank. We can add it here by appending the path with the video name like this:"
      ],
      "metadata": {
        "id": "e_kHeNKNhvlP"
      }
    },
    {
      "cell_type": "code",
      "source": [
        "import pandas as pd\n",
        "\n",
        "df = pd.read_csv('/content/drive/MyDrive/3.2_MAYA_BAY_BLACKTIPS/outputs/internal_results/output.csv')\n",
        "print(df.head()) # check if needed\n"
      ],
      "metadata": {
        "colab": {
          "base_uri": "https://localhost:8080/"
        },
        "id": "9MuR2ReyiNkX",
        "outputId": "7e91953c-18d0-4a06-e19b-ca5ace72bc6a",
        "collapsed": true
      },
      "execution_count": null,
      "outputs": [
        {
          "output_type": "stream",
          "name": "stdout",
          "text": [
            "                                          video_path  \\\n",
            "0  /content/drive/MyDrive/3.2_MAYA_BAY_BLACKTIPS/...   \n",
            "1  /content/drive/MyDrive/3.2_MAYA_BAY_BLACKTIPS/...   \n",
            "2  /content/drive/MyDrive/3.2_MAYA_BAY_BLACKTIPS/...   \n",
            "3  /content/drive/MyDrive/3.2_MAYA_BAY_BLACKTIPS/...   \n",
            "4  /content/drive/MyDrive/3.2_MAYA_BAY_BLACKTIPS/...   \n",
            "\n",
            "                   video_name   frame               time         xmin  \\\n",
            "0  B_MY2_01_181223_1700E1.MP4   541.0  00h:00m:09s:009ms    19.775038   \n",
            "1  B_MY2_01_181223_1700E1.MP4   561.0  00h:00m:09s:342ms     3.485797   \n",
            "2  B_MY2_01_181223_1700E1.MP4   581.0  00h:00m:09s:676ms     0.280212   \n",
            "3  B_MY2_01_181223_1700E1.MP4  1261.0  00h:00m:21s:021ms  1218.452026   \n",
            "4  B_MY2_01_181223_1700E1.MP4  1881.0  00h:00m:31s:364ms  1949.991333   \n",
            "\n",
            "          ymin         xmax         ymax       w       h  confidence  \\\n",
            "0    30.410229  2650.185059   795.674011  2704.0  1520.0    0.492467   \n",
            "1    34.629547  2675.065430  1060.798706  2704.0  1520.0    0.446016   \n",
            "2    33.102634  2684.750244   949.237671  2704.0  1520.0    0.458619   \n",
            "3   203.145294  2163.482178   776.531555  2704.0  1520.0    0.480249   \n",
            "4  1077.339722  2693.015625  1506.635254  2704.0  1520.0    0.827883   \n",
            "\n",
            "          label                                     track_metadata  track_id  \n",
            "0  elasmobranch  /content/drive/MyDrive/3.2_MAYA_BAY_BLACKTIPS/...       0.0  \n",
            "1  elasmobranch  /content/drive/MyDrive/3.2_MAYA_BAY_BLACKTIPS/...       0.0  \n",
            "2  elasmobranch  /content/drive/MyDrive/3.2_MAYA_BAY_BLACKTIPS/...       0.0  \n",
            "3  elasmobranch  /content/drive/MyDrive/3.2_MAYA_BAY_BLACKTIPS/...       0.0  \n",
            "4  elasmobranch  /content/drive/MyDrive/3.2_MAYA_BAY_BLACKTIPS/...       1.0  \n"
          ]
        },
        {
          "output_type": "stream",
          "name": "stderr",
          "text": [
            "<ipython-input-45-0d2c2f244775>:3: DtypeWarning: Columns (0,1,3,11,12) have mixed types. Specify dtype option on import or set low_memory=False.\n",
            "  df = pd.read_csv('/content/drive/MyDrive/3.2_MAYA_BAY_BLACKTIPS/outputs/internal_results/output.csv')\n"
          ]
        }
      ]
    },
    {
      "cell_type": "code",
      "source": [
        "# append video_name to video_path\n",
        "video_path = '/content/drive/MyDrive/3.2_MAYA_BAY_BLACKTIPS/input_videos/'\n",
        "df['video_path'] = video_path + df['video_name']\n",
        "\n",
        "original_file_path = '/content/drive/MyDrive/3.2_MAYA_BAY_BLACKTIPS/outputs/internal_results/output.csv'\n",
        "df.to_csv(original_file_path, index=False, mode='w')"
      ],
      "metadata": {
        "collapsed": true,
        "id": "JRhi9sbloFUW"
      },
      "execution_count": null,
      "outputs": []
    },
    {
      "cell_type": "markdown",
      "source": [
        "Check if it worked by printing the first few rows of data"
      ],
      "metadata": {
        "id": "gI2QInlOlumF"
      }
    },
    {
      "cell_type": "code",
      "source": [
        "print(df.tail())"
      ],
      "metadata": {
        "colab": {
          "base_uri": "https://localhost:8080/"
        },
        "id": "kmf2eLFSpsed",
        "outputId": "e07d1381-86be-4e97-e064-70cce7c62fd6",
        "collapsed": true
      },
      "execution_count": null,
      "outputs": [
        {
          "output_type": "stream",
          "name": "stdout",
          "text": [
            "                                               video_path  \\\n",
            "621990  /content/drive/MyDrive/3.2_MAYA_BAY_BLACKTIPS/...   \n",
            "621991  /content/drive/MyDrive/3.2_MAYA_BAY_BLACKTIPS/...   \n",
            "621992  /content/drive/MyDrive/3.2_MAYA_BAY_BLACKTIPS/...   \n",
            "621993  /content/drive/MyDrive/3.2_MAYA_BAY_BLACKTIPS/...   \n",
            "621994  /content/drive/MyDrive/3.2_MAYA_BAY_BLACKTIPS/...   \n",
            "\n",
            "                        video_name    frame               time        xmin  \\\n",
            "621990  B_MY2_10_201223_1855E3.MP4  25821.0  00h:07m:10s:763ms  627.398010   \n",
            "621991  B_MY2_10_201223_1855E3.MP4  25861.0  00h:07m:11s:431ms  403.202881   \n",
            "621992  B_MY2_10_201223_1855E3.MP4  25881.0  00h:07m:11s:764ms  151.268478   \n",
            "621993  B_MY2_10_201223_1855E3.MP4  25901.0  00h:07m:12s:098ms   47.332443   \n",
            "621994  B_MY2_10_201223_1855E3.MP4  25921.0  00h:07m:12s:432ms    0.384940   \n",
            "\n",
            "              ymin         xmax         ymax       w       h  confidence  \\\n",
            "621990  491.133453  1145.000488   884.326050  1920.0  1080.0    0.736510   \n",
            "621991  652.086792   986.336670   991.070679  1920.0  1080.0    0.405838   \n",
            "621992  539.167603   805.831909   997.866272  1920.0  1080.0    0.754350   \n",
            "621993  589.172485   840.735107  1070.765991  1920.0  1080.0    0.453966   \n",
            "621994  449.887939   601.360474  1022.226135  1920.0  1080.0    0.604993   \n",
            "\n",
            "               label                                     track_metadata  \\\n",
            "621990  elasmobranch  /content/drive/MyDrive/3.2_MAYA_BAY_BLACKTIPS/...   \n",
            "621991  elasmobranch  /content/drive/MyDrive/3.2_MAYA_BAY_BLACKTIPS/...   \n",
            "621992  elasmobranch  /content/drive/MyDrive/3.2_MAYA_BAY_BLACKTIPS/...   \n",
            "621993  elasmobranch  /content/drive/MyDrive/3.2_MAYA_BAY_BLACKTIPS/...   \n",
            "621994  elasmobranch  /content/drive/MyDrive/3.2_MAYA_BAY_BLACKTIPS/...   \n",
            "\n",
            "        track_id  \n",
            "621990    6113.0  \n",
            "621991    6113.0  \n",
            "621992    6113.0  \n",
            "621993    6113.0  \n",
            "621994    6113.0  \n"
          ]
        }
      ]
    },
    {
      "cell_type": "code",
      "source": [
        "print(df.head())"
      ],
      "metadata": {
        "id": "xyBgFJiPinn3",
        "colab": {
          "base_uri": "https://localhost:8080/"
        },
        "outputId": "21be79fc-bcdb-49d0-89be-0c7768da3c6a",
        "collapsed": true
      },
      "execution_count": null,
      "outputs": [
        {
          "output_type": "stream",
          "name": "stdout",
          "text": [
            "                                          video_path  \\\n",
            "0  /content/drive/MyDrive/3.2_MAYA_BAY_BLACKTIPS/...   \n",
            "1  /content/drive/MyDrive/3.2_MAYA_BAY_BLACKTIPS/...   \n",
            "2  /content/drive/MyDrive/3.2_MAYA_BAY_BLACKTIPS/...   \n",
            "3  /content/drive/MyDrive/3.2_MAYA_BAY_BLACKTIPS/...   \n",
            "4  /content/drive/MyDrive/3.2_MAYA_BAY_BLACKTIPS/...   \n",
            "\n",
            "                   video_name   frame               time         xmin  \\\n",
            "0  B_MY2_01_181223_1700E1.MP4   541.0  00h:00m:09s:009ms    19.775038   \n",
            "1  B_MY2_01_181223_1700E1.MP4   561.0  00h:00m:09s:342ms     3.485797   \n",
            "2  B_MY2_01_181223_1700E1.MP4   581.0  00h:00m:09s:676ms     0.280212   \n",
            "3  B_MY2_01_181223_1700E1.MP4  1261.0  00h:00m:21s:021ms  1218.452026   \n",
            "4  B_MY2_01_181223_1700E1.MP4  1881.0  00h:00m:31s:364ms  1949.991333   \n",
            "\n",
            "          ymin         xmax         ymax       w       h  confidence  \\\n",
            "0    30.410229  2650.185059   795.674011  2704.0  1520.0    0.492467   \n",
            "1    34.629547  2675.065430  1060.798706  2704.0  1520.0    0.446016   \n",
            "2    33.102634  2684.750244   949.237671  2704.0  1520.0    0.458619   \n",
            "3   203.145294  2163.482178   776.531555  2704.0  1520.0    0.480249   \n",
            "4  1077.339722  2693.015625  1506.635254  2704.0  1520.0    0.827883   \n",
            "\n",
            "          label                                     track_metadata  track_id  \n",
            "0  elasmobranch  /content/drive/MyDrive/3.2_MAYA_BAY_BLACKTIPS/...       0.0  \n",
            "1  elasmobranch  /content/drive/MyDrive/3.2_MAYA_BAY_BLACKTIPS/...       0.0  \n",
            "2  elasmobranch  /content/drive/MyDrive/3.2_MAYA_BAY_BLACKTIPS/...       0.0  \n",
            "3  elasmobranch  /content/drive/MyDrive/3.2_MAYA_BAY_BLACKTIPS/...       0.0  \n",
            "4  elasmobranch  /content/drive/MyDrive/3.2_MAYA_BAY_BLACKTIPS/...       1.0  \n"
          ]
        }
      ]
    },
    {
      "cell_type": "markdown",
      "source": [
        "## 3.1.  Compute MaxN (*finally!*)"
      ],
      "metadata": {
        "id": "g6ho8w7sx00v"
      }
    },
    {
      "cell_type": "markdown",
      "source": [
        "You can compute MaxN locally by following the steps below:\n",
        "\n",
        "Open the Prompt/Terminal at the sharktrack folder location as you did when running the model in the User Guide step.\n",
        "\n",
        "Activate the virtual environment (guide here)\n",
        "\n",
        "Run python utils/compute_maxn.py --path <output_path>, replacing <output_path> with the path of the folder that contains the output.csv file and all the detection folders.\n",
        "\n",
        "Example: python utils/compute_maxn.py --path output\n",
        "\n",
        "You can optionally provide a path to the original videos, to output the MaxN jpg Frames\n",
        "\n",
        "You will see a maxn.csv file in the SharkTrack folder under outputs / analysed\n",
        "\n",
        "The MaxN jpg frames get saved to the input_videos folder (because of a weird issue with google collab) in seperate folders for each video.\n"
      ],
      "metadata": {
        "id": "ddCul6_358le"
      }
    },
    {
      "cell_type": "code",
      "source": [
        "!python utils/compute_maxn.py --path /content/drive/MyDrive/3.2_MAYA_BAY_BLACKTIPS/outputs\n"
      ],
      "metadata": {
        "id": "uP2zAuT1571n",
        "colab": {
          "base_uri": "https://localhost:8080/"
        },
        "outputId": "67d9060a-2446-4af7-a46b-50d8efa0327c"
      },
      "execution_count": null,
      "outputs": [
        {
          "output_type": "stream",
          "name": "stdout",
          "text": [
            "Path to original videos (to compute maxn screenshots) [N/A]: /content/drive/MyDrive/3.2_MAYA_BAY_BLACKTIPS/input_videos\n",
            "Are your videos split in chapters? [y/N]: "
          ]
        }
      ]
    },
    {
      "cell_type": "code",
      "source": [
        " #input video path:\n",
        "\n",
        "#  /content/drive/MyDrive/3.2_MAYA_BAY_BLACKTIPS/input_videos"
      ],
      "metadata": {
        "id": "5hOtPY-_6SFH"
      },
      "execution_count": null,
      "outputs": []
    },
    {
      "cell_type": "code",
      "source": [
        "import pandas as pd\n",
        "\n",
        "df = pd.read_csv('/content/drive/MyDrive/3.2_MAYA_BAY_BLACKTIPS/outputs/internal_results/overview.csv')\n",
        "print(df.tail()) # check if needed"
      ],
      "metadata": {
        "colab": {
          "base_uri": "https://localhost:8080/"
        },
        "id": "8coGDBUip1y4",
        "outputId": "ea861a08-3042-44c1-d38d-ed7cbc2673af"
      },
      "execution_count": null,
      "outputs": [
        {
          "output_type": "stream",
          "name": "stdout",
          "text": [
            "                                           video_path  tracks_found\n",
            "43  /content/drive/MyDrive/3.2_MAYA_BAY_BLACKTIPS/...             6\n",
            "44  /content/drive/MyDrive/3.2_MAYA_BAY_BLACKTIPS/...           263\n",
            "45  /content/drive/MyDrive/3.2_MAYA_BAY_BLACKTIPS/...            95\n",
            "46  /content/drive/MyDrive/3.2_MAYA_BAY_BLACKTIPS/...            53\n",
            "47  /content/drive/MyDrive/3.2_MAYA_BAY_BLACKTIPS/...            53\n"
          ]
        }
      ]
    },
    {
      "source": [
        "import pandas as pd\n",
        "\n",
        "# Read the CSV file into a pandas DataFrame\n",
        "df = pd.read_csv('/content/drive/MyDrive/3.2_MAYA_BAY_BLACKTIPS/outputs/internal_results/output.csv')\n",
        "\n",
        "# Filter the DataFrame for rows where the video name is 'B_MY2_20_231223_1145E1.MP4'\n",
        "filtered_df = df[df['video_name'] == 'B_MY2_10_201223_1855E3.MP4']\n",
        "\n",
        "# Print the filtered DataFrame\n",
        "print(filtered_df)"
      ],
      "cell_type": "code",
      "metadata": {
        "colab": {
          "base_uri": "https://localhost:8080/"
        },
        "id": "XIGFBdAPV--9",
        "outputId": "e9cb8713-654e-43f4-a7bd-a703f88eb211"
      },
      "execution_count": null,
      "outputs": [
        {
          "output_type": "stream",
          "name": "stderr",
          "text": [
            "<ipython-input-33-7b256bb3aeb3>:4: DtypeWarning: Columns (0,1,3,11,12) have mixed types. Specify dtype option on import or set low_memory=False.\n",
            "  df = pd.read_csv('/content/drive/MyDrive/3.2_MAYA_BAY_BLACKTIPS/outputs/internal_results/output.csv')\n"
          ]
        },
        {
          "output_type": "stream",
          "name": "stdout",
          "text": [
            "                                               video_path  \\\n",
            "621354  /content/drive/MyDrive/3.2_MAYA_BAY_BLACKTIPS/...   \n",
            "621355  /content/drive/MyDrive/3.2_MAYA_BAY_BLACKTIPS/...   \n",
            "621356  /content/drive/MyDrive/3.2_MAYA_BAY_BLACKTIPS/...   \n",
            "621357  /content/drive/MyDrive/3.2_MAYA_BAY_BLACKTIPS/...   \n",
            "621358  /content/drive/MyDrive/3.2_MAYA_BAY_BLACKTIPS/...   \n",
            "...                                                   ...   \n",
            "621945  /content/drive/MyDrive/3.2_MAYA_BAY_BLACKTIPS/...   \n",
            "621946  /content/drive/MyDrive/3.2_MAYA_BAY_BLACKTIPS/...   \n",
            "621947  /content/drive/MyDrive/3.2_MAYA_BAY_BLACKTIPS/...   \n",
            "621948  /content/drive/MyDrive/3.2_MAYA_BAY_BLACKTIPS/...   \n",
            "621949  /content/drive/MyDrive/3.2_MAYA_BAY_BLACKTIPS/...   \n",
            "\n",
            "                        video_name     frame               time         xmin  \\\n",
            "621354  B_MY2_20_231223_1145E1.MP4   15881.0  00h:04m:24s:931ms  1478.150269   \n",
            "621355  B_MY2_20_231223_1145E1.MP4   15921.0  00h:04m:25s:598ms  1427.652588   \n",
            "621356  B_MY2_20_231223_1145E1.MP4   15941.0  00h:04m:25s:932ms  1387.132324   \n",
            "621357  B_MY2_20_231223_1145E1.MP4   15961.0  00h:04m:26s:266ms  1329.192749   \n",
            "621358  B_MY2_20_231223_1145E1.MP4   15981.0  00h:04m:26s:599ms  1276.607178   \n",
            "...                            ...       ...                ...          ...   \n",
            "621945  B_MY2_20_231223_1145E1.MP4  140781.0  00h:39m:08s:679ms     0.000000   \n",
            "621946  B_MY2_20_231223_1145E1.MP4  141541.0  00h:39m:21s:359ms     0.573246   \n",
            "621947  B_MY2_20_231223_1145E1.MP4  141561.0  00h:39m:21s:692ms     0.000000   \n",
            "621948  B_MY2_20_231223_1145E1.MP4  141581.0  00h:39m:22s:026ms    54.446800   \n",
            "621949  B_MY2_20_231223_1145E1.MP4  142941.0  00h:39m:44s:715ms   105.370888   \n",
            "\n",
            "              ymin         xmax        ymax       w       h  confidence  \\\n",
            "621354  475.935150  1662.909058  549.941528  1920.0  1080.0    0.467587   \n",
            "621355  489.176422  1604.638306  562.442444  1920.0  1080.0    0.528381   \n",
            "621356  486.436523  1586.483276  571.930786  1920.0  1080.0    0.705562   \n",
            "621357  482.071075  1550.600830  569.631653  1920.0  1080.0    0.655324   \n",
            "621358  485.756744  1524.093018  580.006958  1920.0  1080.0    0.746234   \n",
            "...            ...          ...         ...     ...     ...         ...   \n",
            "621945  486.952972   154.296371  645.416931  1920.0  1080.0    0.427444   \n",
            "621946  570.856995   379.328003  738.955444  1920.0  1080.0    0.718840   \n",
            "621947  560.207703   657.887634  751.069031  1920.0  1080.0    0.750016   \n",
            "621948  544.138916   788.520691  733.870422  1920.0  1080.0    0.677071   \n",
            "621949  596.100220   644.389160  727.369324  1920.0  1080.0    0.542503   \n",
            "\n",
            "               label                                     track_metadata  \\\n",
            "621354  elasmobranch  /content/drive/MyDrive/3.2_MAYA_BAY_BLACKTIPS/...   \n",
            "621355  elasmobranch  /content/drive/MyDrive/3.2_MAYA_BAY_BLACKTIPS/...   \n",
            "621356  elasmobranch  /content/drive/MyDrive/3.2_MAYA_BAY_BLACKTIPS/...   \n",
            "621357  elasmobranch  /content/drive/MyDrive/3.2_MAYA_BAY_BLACKTIPS/...   \n",
            "621358  elasmobranch  /content/drive/MyDrive/3.2_MAYA_BAY_BLACKTIPS/...   \n",
            "...              ...                                                ...   \n",
            "621945  elasmobranch  /content/drive/MyDrive/3.2_MAYA_BAY_BLACKTIPS/...   \n",
            "621946  elasmobranch  /content/drive/MyDrive/3.2_MAYA_BAY_BLACKTIPS/...   \n",
            "621947  elasmobranch  /content/drive/MyDrive/3.2_MAYA_BAY_BLACKTIPS/...   \n",
            "621948  elasmobranch  /content/drive/MyDrive/3.2_MAYA_BAY_BLACKTIPS/...   \n",
            "621949  elasmobranch  /content/drive/MyDrive/3.2_MAYA_BAY_BLACKTIPS/...   \n",
            "\n",
            "        track_id  \n",
            "621354    6057.0  \n",
            "621355    6057.0  \n",
            "621356    6057.0  \n",
            "621357    6057.0  \n",
            "621358    6057.0  \n",
            "...          ...  \n",
            "621945    6108.0  \n",
            "621946    6109.0  \n",
            "621947    6109.0  \n",
            "621948    6109.0  \n",
            "621949    6109.0  \n",
            "\n",
            "[596 rows x 14 columns]\n"
          ]
        }
      ]
    },
    {
      "cell_type": "markdown",
      "source": [
        "## *how to make google collab not disconect when running the code for a long time*"
      ],
      "metadata": {
        "id": "4GCWM8NOxAZi"
      }
    },
    {
      "cell_type": "markdown",
      "source": [
        "As of June 2023, here's the working javascript code for preventing Google colab from disconnecting due to inactivity.\n",
        "\n",
        "```\n",
        " function keepAliveProgrammatically() {\n",
        "  document.querySelector('colab-connect-button').shadowRoot.querySelector(\"#connect\").click();\n",
        "}\n",
        "```\n",
        "The function above is responsible for clicking the compute resources button It is clicked after every 60 seconds. The code snippet below is responsible for running the function.\n",
        "```\n",
        "const keepAliveProgrammaticallyInterval = setInterval(() => {\n",
        "    keepAliveProgrammatically();\n",
        "}, 60000);\n",
        "```\n",
        "To stop the code, use the code snippet below.\n",
        "```\n",
        "clearInterval(keepAliveProgrammaticallyInterval);\n",
        "```"
      ],
      "metadata": {
        "id": "-5ZJXpt-XO8K"
      }
    }
  ]
}